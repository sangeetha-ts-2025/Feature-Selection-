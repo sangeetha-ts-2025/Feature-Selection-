{
 "cells": [
  {
   "cell_type": "code",
   "execution_count": 1,
   "id": "12951f37",
   "metadata": {},
   "outputs": [
    {
     "name": "stdout",
     "output_type": "stream",
     "text": [
      "Selected Features using RFE:\n",
      "Index(['St1_Angle_Pelvis_X', 'St1_Angle_Pelvis_Y', 'St1_Angle_Pelvis_Z',\n",
      "       'St1_Angle_Hip_X', 'St1_Angle_Hip_Y', 'St1_Angle_Hip_Z',\n",
      "       'St1_Angle_Knee_X', 'St1_Angle_Knee_Y', 'St1_Angle_Knee_Z',\n",
      "       'St1_Angle_Ankle_Y', 'St1_Angle_Ankle_Z', 'St1_GRF_X', 'St1_GRF_Y',\n",
      "       'St1_GRF_Z', 'St1_Torque_Pelvis_X', 'St1_Torque_Pelvis_Y',\n",
      "       'St1_Torque_Pelvis_Z', 'St1_Torque_Hip_X', 'St1_Torque_Hip_Y',\n",
      "       'St1_Torque_Hip_Z', 'St1_Torque_Knee_X', 'St1_Torque_Knee_Y',\n",
      "       'St1_Torque_Knee_Z', 'St1_Torque_Ankle_X', 'St1_Torque_Ankle_Y',\n",
      "       'St1_Torque_Ankle_Z', 'Emg_raw_St1_VL', 'Emg_raw_St1_BF',\n",
      "       'Emg_raw_St1_TA', 'Emg_raw_St1_GAL'],\n",
      "      dtype='object')\n",
      "\n",
      "Model R² Score after RFE Feature Selection: 0.7804034553182018\n"
     ]
    }
   ],
   "source": [
    "import pandas as pd\n",
    "import numpy as np\n",
    "from sklearn.preprocessing import StandardScaler\n",
    "from sklearn.linear_model import Lasso\n",
    "from sklearn.feature_selection import RFE\n",
    "from sklearn.model_selection import train_test_split\n",
    "\n",
    "# Load dataset\n",
    "df = pd.read_csv(\"4_Raw_data_csv.csv\")  # Update filename\n",
    "\n",
    "# Define target variable\n",
    "target_variable = \"St1_Angle_Ankle_X\"  # Change based on your target\n",
    "X = df.drop(columns=[target_variable,\"Time\"])\n",
    "y = df[target_variable]\n",
    "\n",
    "# Standardize Features\n",
    "scaler = StandardScaler()\n",
    "X_scaled = scaler.fit_transform(X)\n",
    "\n",
    "# Split dataset\n",
    "X_train, X_test, y_train, y_test = train_test_split(X_scaled, y, test_size=0.2, random_state=42)\n",
    "\n",
    "# Define the Lasso model for RFE\n",
    "base_model = Lasso(alpha=0.01, max_iter=5000)  # You can adjust alpha\n",
    "\n",
    "# Recursive Feature Elimination (RFE)\n",
    "num_features_to_select = 30  # Set the number of features to keep\n",
    "rfe = RFE(estimator=base_model, n_features_to_select=num_features_to_select)\n",
    "rfe.fit(X_train, y_train)\n",
    "\n",
    "# Get selected features\n",
    "selected_features = X.columns[rfe.support_]\n",
    "\n",
    "# Print selected features\n",
    "print(\"Selected Features using RFE:\")\n",
    "print(selected_features)\n",
    "\n",
    "# Model Performance Check\n",
    "score = rfe.estimator_.score(X_test[:, rfe.support_], y_test)\n",
    "print(\"\\nModel R² Score after RFE Feature Selection:\", score)\n"
   ]
  }
 ],
 "metadata": {
  "kernelspec": {
   "display_name": "Python 3 (ipykernel)",
   "language": "python",
   "name": "python3"
  },
  "language_info": {
   "codemirror_mode": {
    "name": "ipython",
    "version": 3
   },
   "file_extension": ".py",
   "mimetype": "text/x-python",
   "name": "python",
   "nbconvert_exporter": "python",
   "pygments_lexer": "ipython3",
   "version": "3.9.13"
  }
 },
 "nbformat": 4,
 "nbformat_minor": 5
}
