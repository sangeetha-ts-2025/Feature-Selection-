{
 "cells": [
  {
   "cell_type": "code",
   "execution_count": 1,
   "id": "b81e4fbc",
   "metadata": {},
   "outputs": [
    {
     "name": "stdout",
     "output_type": "stream",
     "text": [
      "Significant PCs: [0]\n",
      "Selected Features:\n",
      "                Feature  Total Contribution\n",
      "18     St1_Torque_Hip_Y            0.374611\n",
      "23   St1_Torque_Ankle_X            0.339061\n",
      "21    St1_Torque_Knee_Y            0.325592\n",
      "9     St1_Angle_Ankle_X            0.273076\n",
      "16  St1_Torque_Pelvis_Z            0.245005\n",
      "1    St1_Angle_Pelvis_Y            0.243076\n",
      "25   St1_Torque_Ankle_Z            0.223430\n",
      "6      St1_Angle_Knee_X            0.221643\n",
      "15  St1_Torque_Pelvis_Y            0.221138\n",
      "17     St1_Torque_Hip_X            0.210094\n",
      "4       St1_Angle_Hip_Y            0.206633\n",
      "3       St1_Angle_Hip_X            0.204030\n",
      "19     St1_Torque_Hip_Z            0.180691\n",
      "24   St1_Torque_Ankle_Y            0.180608\n",
      "20    St1_Torque_Knee_X            0.173172\n",
      "10    St1_Angle_Ankle_Z            0.150848\n",
      "8      St1_Angle_Knee_Z            0.135719\n",
      "2    St1_Angle_Pelvis_Z            0.126557\n",
      "0    St1_Angle_Pelvis_X            0.065477\n",
      "5       St1_Angle_Hip_Z            0.063863\n",
      "14  St1_Torque_Pelvis_X            0.060460\n",
      "22    St1_Torque_Knee_Z            0.043092\n",
      "7      St1_Angle_Knee_Y            0.034195\n",
      "13            St1_GRF_Z            0.029061\n",
      "11            St1_GRF_X            0.012892\n",
      "12            St1_GRF_Y            0.009140\n",
      "27       Emg_raw_St1_BF            0.002554\n",
      "29      Emg_raw_St1_GAL            0.000464\n",
      "28       Emg_raw_St1_TA            0.000443\n",
      "26       Emg_raw_St1_VL            0.000018\n"
     ]
    }
   ],
   "source": [
    "import pandas as pd\n",
    "import numpy as np\n",
    "from sklearn.preprocessing import StandardScaler\n",
    "from sklearn.decomposition import PCA\n",
    "\n",
    "# Step 1: Load and preprocess the dataset\n",
    "df = pd.read_csv(\"4_Raw_data_csv.csv\")\n",
    "X = df.drop(columns=[\"Time\", \"St1_Angle_Ankle_Y\"])  # Input features\n",
    "y = df[\"St1_Angle_Ankle_Y\"]  # Target variable\n",
    "\n",
    "# Standardize the features\n",
    "scaler = StandardScaler()\n",
    "X_scaled = scaler.fit_transform(X)\n",
    "\n",
    "# Step 2: Apply PCA\n",
    "pca = PCA()\n",
    "X_pca = pca.fit_transform(X_scaled)\n",
    "\n",
    "# Step 3: Identify significant PCs based on correlation with target\n",
    "pc_correlations = [np.corrcoef(X_pca[:, i], y)[0, 1] for i in range(X_pca.shape[1])]\n",
    "significant_pcs = [i for i, corr in enumerate(pc_correlations) if abs(corr) > 0.5]  # Threshold: |r| > 0.5\n",
    "print(\"Significant PCs:\", significant_pcs)\n",
    "\n",
    "# Step 4: Analyze feature contributions to significant PCs\n",
    "feature_contributions = pd.DataFrame()\n",
    "for pc in significant_pcs:\n",
    "    loadings = pca.components_[pc]\n",
    "    feature_contributions[f\"PC{pc+1}\"] = loadings\n",
    "\n",
    "# Combine feature contributions into a single score (e.g., sum of absolute loadings)\n",
    "feature_contributions[\"Total Contribution\"] = feature_contributions.abs().sum(axis=1)\n",
    "feature_contributions[\"Feature\"] = X.columns\n",
    "\n",
    "# Step 5: Select top features\n",
    "selected_features = feature_contributions.sort_values(by=\"Total Contribution\", ascending=False)\n",
    "print(\"Selected Features:\")\n",
    "print(selected_features[[\"Feature\", \"Total Contribution\"]].head(30))  # Top 10 features"
   ]
  }
 ],
 "metadata": {
  "kernelspec": {
   "display_name": "Python 3 (ipykernel)",
   "language": "python",
   "name": "python3"
  },
  "language_info": {
   "codemirror_mode": {
    "name": "ipython",
    "version": 3
   },
   "file_extension": ".py",
   "mimetype": "text/x-python",
   "name": "python",
   "nbconvert_exporter": "python",
   "pygments_lexer": "ipython3",
   "version": "3.9.13"
  }
 },
 "nbformat": 4,
 "nbformat_minor": 5
}
